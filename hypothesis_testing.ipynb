{
 "cells": [
  {
   "cell_type": "markdown",
   "metadata": {},
   "source": [
    "### For each of the following questions, formulate a null and alternative hypothesis (be as specific as you can be), then give an example of what a true positive, true negative, type I and type II errors would look like. Note that some of the questions are intentionally phrased in a vague way. It is your job to reword these as more precise questions that could be tested."
   ]
  },
  {
   "cell_type": "markdown",
   "metadata": {},
   "source": [
    "### Has the network latency gone up since we switched internet service providers?"
   ]
  },
  {
   "cell_type": "markdown",
   "metadata": {},
   "source": [
    "- $H_{o}$ : There is not a significant difference in the network latency  with different internet providers\n",
    "\n",
    "-            - $μ_{new Provider}$ (network latency) ==  $μ_{Old provider}$ (network latency)"
   ]
  },
  {
   "cell_type": "markdown",
   "metadata": {},
   "source": [
    "- $H_{a}$ :There is a significat increase in the network latency  with different internet providers\n",
    "\n",
    "-           $μ_{new Provider}$ (network latency) >  $μ_{Old provider}$ (network latency)"
   ]
  },
  {
   "cell_type": "markdown",
   "metadata": {},
   "source": [
    "- true positive = there is a significance difference in the network latency with different internet providers"
   ]
  },
  {
   "cell_type": "markdown",
   "metadata": {},
   "source": [
    "- true false = changing internet providers does not change network latency"
   ]
  },
  {
   "cell_type": "markdown",
   "metadata": {},
   "source": [
    "- type I error = I reject there is not a significant difference in the network latency with different internet providers but in reality there is not a significant  "
   ]
  },
  {
   "cell_type": "markdown",
   "metadata": {},
   "source": [
    "- type II error = I  fail to reject the null hypothesis (There is not a significant difference in the network latency with different internet providers) when it is actually false that means There is a significat increase in the network latency with different internet providers."
   ]
  },
  {
   "cell_type": "markdown",
   "metadata": {},
   "source": [
    "### Is the website redesign any good?  = Does the website redesign  make increase revenue?"
   ]
  },
  {
   "cell_type": "markdown",
   "metadata": {},
   "source": [
    "- $H_{o}$ : the  website redesign does not increase revenue"
   ]
  },
  {
   "cell_type": "markdown",
   "metadata": {},
   "source": [
    "- $H_{a}$ :the  website redesign  increases revenue"
   ]
  },
  {
   "cell_type": "markdown",
   "metadata": {},
   "source": [
    "- true positive: the  website redesign  increases revenue"
   ]
  },
  {
   "cell_type": "markdown",
   "metadata": {},
   "source": [
    "- true false : the  website redesign does not increase revenue"
   ]
  },
  {
   "cell_type": "markdown",
   "metadata": {},
   "source": [
    "- type I error : I reject the null hypothesis( the  website redesign does not increase revenue) but it is acually true"
   ]
  },
  {
   "cell_type": "markdown",
   "metadata": {},
   "source": [
    "- type II error: I fail to reject the null hypothesis (the  website redesign does not increase revenue) but acually the  website redesign  increases revenue"
   ]
  },
  {
   "cell_type": "markdown",
   "metadata": {},
   "source": [
    "### Is our television ad driving more sales? "
   ]
  },
  {
   "cell_type": "markdown",
   "metadata": {},
   "source": [
    "- $H_{o}$ : the television add does not change sales"
   ]
  },
  {
   "cell_type": "markdown",
   "metadata": {},
   "source": [
    "- $H_{a}$ the television ad increases sales"
   ]
  },
  {
   "cell_type": "markdown",
   "metadata": {},
   "source": [
    "- true positive : television ad increase sales"
   ]
  },
  {
   "cell_type": "markdown",
   "metadata": {},
   "source": [
    "- true false: television add does not change sales"
   ]
  },
  {
   "cell_type": "markdown",
   "metadata": {},
   "source": [
    "- type I error : I reject the null hypothesis (television ad increase sales), but, in reality television add does not change sales"
   ]
  },
  {
   "cell_type": "markdown",
   "metadata": {},
   "source": [
    "- type II error : I  fail to reject the null hypothesis (television ad increase sales) when it is actually false."
   ]
  },
  {
   "cell_type": "code",
   "execution_count": null,
   "metadata": {},
   "outputs": [],
   "source": []
  },
  {
   "cell_type": "markdown",
   "metadata": {},
   "source": [
    "## Zillow data base"
   ]
  },
  {
   "cell_type": "markdown",
   "metadata": {},
   "source": [
    "Is the price of a single story house higher than two story house with the same number of bedrooms and bathrooms?"
   ]
  },
  {
   "cell_type": "code",
   "execution_count": null,
   "metadata": {},
   "outputs": [],
   "source": [
    "- 𝐻𝑜 : there is not a  difference in price between single story and  two story with the same number of bedrooms and bathroom\n",
    "\n",
    "- 𝐻𝑎 : there is a significant difference in price  between single story and  two story with the same number of bedrooms bathrooms\n",
    "\n",
    "- true positive : there is a significant difference in price  between single story house and  two story  house with the same number of bedrooms bathrooms\n",
    "\n",
    "- true false:  there is not a  difference in price between single story and  two story with the same number of bedrooms and bathroom\n",
    "\n",
    "- type I error : I  reject  there is not a  difference in price between single story and  two story with the same number of bedrooms and bathroom, but, in reality, it is  true.\n",
    "\n",
    "- type II error : I fail to reject the null hypothesis ( there is not a  difference in price between single story and  two story with the same number of bedrooms and bathroom)  when there is a significant difference in price  between single story and  two story with the same number of bedrooms bathrooms."
   ]
  },
  {
   "cell_type": "markdown",
   "metadata": {},
   "source": []
  },
  {
   "cell_type": "markdown",
   "metadata": {},
   "source": [
    "price depends on region county"
   ]
  },
  {
   "cell_type": "markdown",
   "metadata": {},
   "source": [
    "𝐻𝑜 : is there arelation \n",
    "\n",
    "𝐻𝑎 :\n",
    "\n",
    "true positive :\n",
    "\n",
    "true false:\n",
    "\n",
    "type I error :\n",
    "\n",
    "type II error :"
   ]
  },
  {
   "cell_type": "markdown",
   "metadata": {},
   "source": []
  },
  {
   "cell_type": "markdown",
   "metadata": {},
   "source": [
    "𝐻𝑜 : is there arelation \n",
    "\n",
    "𝐻𝑎 :\n",
    "\n",
    "true positive :\n",
    "\n",
    "true false:\n",
    "\n",
    "type I error :\n",
    "\n",
    "type II error :"
   ]
  },
  {
   "cell_type": "code",
   "execution_count": null,
   "metadata": {},
   "outputs": [],
   "source": []
  }
 ],
 "metadata": {
  "kernelspec": {
   "display_name": "Python 3",
   "language": "python",
   "name": "python3"
  },
  "language_info": {
   "codemirror_mode": {
    "name": "ipython",
    "version": 3
   },
   "file_extension": ".py",
   "mimetype": "text/x-python",
   "name": "python",
   "nbconvert_exporter": "python",
   "pygments_lexer": "ipython3",
   "version": "3.8.5"
  }
 },
 "nbformat": 4,
 "nbformat_minor": 4
}
